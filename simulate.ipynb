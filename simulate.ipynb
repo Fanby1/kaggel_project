{
 "cells": [
  {
   "cell_type": "markdown",
   "metadata": {},
   "source": [
    "读取文件"
   ]
  },
  {
   "cell_type": "code",
   "execution_count": 2,
   "metadata": {},
   "outputs": [
    {
     "data": {
      "text/html": [
       "<div>\n",
       "<style scoped>\n",
       "    .dataframe tbody tr th:only-of-type {\n",
       "        vertical-align: middle;\n",
       "    }\n",
       "\n",
       "    .dataframe tbody tr th {\n",
       "        vertical-align: top;\n",
       "    }\n",
       "\n",
       "    .dataframe thead th {\n",
       "        text-align: right;\n",
       "    }\n",
       "</style>\n",
       "<table border=\"1\" class=\"dataframe\">\n",
       "  <thead>\n",
       "    <tr style=\"text-align: right;\">\n",
       "      <th></th>\n",
       "      <th>id</th>\n",
       "      <th>event_id</th>\n",
       "      <th>down_time</th>\n",
       "      <th>up_time</th>\n",
       "      <th>action_time</th>\n",
       "      <th>activity</th>\n",
       "      <th>down_event</th>\n",
       "      <th>up_event</th>\n",
       "      <th>text_change</th>\n",
       "      <th>cursor_position</th>\n",
       "      <th>word_count</th>\n",
       "    </tr>\n",
       "  </thead>\n",
       "  <tbody>\n",
       "    <tr>\n",
       "      <th>0</th>\n",
       "      <td>001519c8</td>\n",
       "      <td>1</td>\n",
       "      <td>4526</td>\n",
       "      <td>4557</td>\n",
       "      <td>31</td>\n",
       "      <td>Nonproduction</td>\n",
       "      <td>Leftclick</td>\n",
       "      <td>Leftclick</td>\n",
       "      <td>NoChange</td>\n",
       "      <td>0</td>\n",
       "      <td>0</td>\n",
       "    </tr>\n",
       "    <tr>\n",
       "      <th>1</th>\n",
       "      <td>001519c8</td>\n",
       "      <td>2</td>\n",
       "      <td>4558</td>\n",
       "      <td>4962</td>\n",
       "      <td>404</td>\n",
       "      <td>Nonproduction</td>\n",
       "      <td>Leftclick</td>\n",
       "      <td>Leftclick</td>\n",
       "      <td>NoChange</td>\n",
       "      <td>0</td>\n",
       "      <td>0</td>\n",
       "    </tr>\n",
       "    <tr>\n",
       "      <th>2</th>\n",
       "      <td>001519c8</td>\n",
       "      <td>3</td>\n",
       "      <td>106571</td>\n",
       "      <td>106571</td>\n",
       "      <td>0</td>\n",
       "      <td>Nonproduction</td>\n",
       "      <td>Shift</td>\n",
       "      <td>Shift</td>\n",
       "      <td>NoChange</td>\n",
       "      <td>0</td>\n",
       "      <td>0</td>\n",
       "    </tr>\n",
       "    <tr>\n",
       "      <th>3</th>\n",
       "      <td>001519c8</td>\n",
       "      <td>4</td>\n",
       "      <td>106686</td>\n",
       "      <td>106777</td>\n",
       "      <td>91</td>\n",
       "      <td>Input</td>\n",
       "      <td>q</td>\n",
       "      <td>q</td>\n",
       "      <td>q</td>\n",
       "      <td>1</td>\n",
       "      <td>1</td>\n",
       "    </tr>\n",
       "    <tr>\n",
       "      <th>4</th>\n",
       "      <td>001519c8</td>\n",
       "      <td>5</td>\n",
       "      <td>107196</td>\n",
       "      <td>107323</td>\n",
       "      <td>127</td>\n",
       "      <td>Input</td>\n",
       "      <td>q</td>\n",
       "      <td>q</td>\n",
       "      <td>q</td>\n",
       "      <td>2</td>\n",
       "      <td>1</td>\n",
       "    </tr>\n",
       "  </tbody>\n",
       "</table>\n",
       "</div>"
      ],
      "text/plain": [
       "         id  event_id  down_time  up_time  action_time       activity  \\\n",
       "0  001519c8         1       4526     4557           31  Nonproduction   \n",
       "1  001519c8         2       4558     4962          404  Nonproduction   \n",
       "2  001519c8         3     106571   106571            0  Nonproduction   \n",
       "3  001519c8         4     106686   106777           91          Input   \n",
       "4  001519c8         5     107196   107323          127          Input   \n",
       "\n",
       "  down_event   up_event text_change  cursor_position  word_count  \n",
       "0  Leftclick  Leftclick    NoChange                0           0  \n",
       "1  Leftclick  Leftclick    NoChange                0           0  \n",
       "2      Shift      Shift    NoChange                0           0  \n",
       "3          q          q           q                1           1  \n",
       "4          q          q           q                2           1  "
      ]
     },
     "execution_count": 2,
     "metadata": {},
     "output_type": "execute_result"
    }
   ],
   "source": [
    "import pandas as pd\n",
    "import numpy as np\n",
    "import json\n",
    "\n",
    "train_log = pd.read_csv(\"./data/train_logs.csv\")\n",
    "train_log.head()"
   ]
  },
  {
   "cell_type": "markdown",
   "metadata": {},
   "source": [
    "模拟写作过程"
   ]
  },
  {
   "cell_type": "code",
   "execution_count": 18,
   "metadata": {},
   "outputs": [
    {
     "name": "stdout",
     "output_type": "stream",
     "text": [
      "qqqqqqqqqq qq qqqqq qq qqqq qqqq.  qqqqq qqq qqqq qqqqqq qq qq qqqqq qq qqqq qqqqq qq qqqqqqqqq qqqqq qqqq qqqqq qqqq qqqqqqqq qqqqqqqqq qqqq.  qqqqqq qqq qqqqq qqqq qqqqqqqqqq q,q qqq qqqqqqqqqq qqqqq qqq qqqqq qqqqqq qq qq qqqqq qqqqqqqqqq qqqqqqq qq qq qqqqqqqqqqq.  qqqqqqqq qq qqqqqqqqqqq qqqq qqq qqqqqqqqq qqq qqqqqqq qq qqqqqq qqqqq qqq qqq q qqqqqqqqq qq qq qqq qqqqq qqqqq\n",
      " qq qqq.\n",
      "qq qq qqqq qqqq qqq qqqqqqqqq qqq qqqqqqq qq qqq qqqqq qqqqq, qq qq  qqqqqqqqq qqq qqqqqqqq qqqqq qq qqq qqqqqqqqqqq qq qqqqqqqqq.  qqqqqqqqq qq qqq qqqqqqqq qqq qqq qqqq qq qqqqqqq qqqqq qqqqq, qqq qqqqqq qqqqq qqqqq qqq qqq qq qqq qqqqqqq qqqqqqq qqqq.  qqqq qqqqq qqqqq qqqq qqqq 'qqqqqqq qqqqqqqqq qqqqq qqqqqqq qqqqqqq qqqqqqqqqq, qqqq qq qqqqqqqqqq qqqqqqq qqq qqqqqqq; qqqqqqq, qqqqq qqqqqqqq qqqqqq qqqqqqq qqqqqqq qqq qqqqq qqq qqq qqq qqqqqqq.  qqqq qqqqqqqqq qqqq qqq qqqq qqqq qq qqqqqqqqqqqqq qqqq qqqqq qqqqq.  qqq qqqqqqqqqq qq qqqqqqqq q qqqqqq, qqqqqqqq qqqq qqqq qqqqqqqqqq, qqq. qq qqqqq qq qqqqq qqqqqqq qqqqqqqqq\n",
      " qq qq qqqq qqqqqqq. \n",
      "qqqq qqq qqqqqq qqqqqqqqqq qqqqqqqqq qqqqq, qqqqqq qqqqq qqq qqqqqq qqqq qq qqqqqq qqqqqqq qqqqq qqqq qqqqqqqq qqqq qqq qqqqq qq qqq.  qq qqqqq qqqqqqq qqq qqqqq qq qqqqqq qqq qqqqqq qqqqq qqq qqqqq qq qqqqqqqq qqqqqqqq qq qqqqqqqqq qqqq q.qq qqq qq qqqqqq  qqqqqqqq qq qqq qqqqqqqqqqq qq qqqqqqqq ,qqq qqqqqqq qqqqqqqqq qqqqqq qq qqqqqq ,qqqq qqqqq qq qq qqqqqq qq qqqq qqqq qqqqqqqqq.   qq q qqq qqqqqqqqq qqqq qqq qq qqqqqqq qqqqqqq qq qqqqqqqq qq qqq qqq qqqqqqqq qqqqqqqqq.  \n"
     ]
    },
    {
     "data": {
      "text/plain": [
       "'\\nsimulate(row=train_log.loc[2359], content=\"\")\\ntrain_log.loc[train_log[\\'activity\\'] == \\'Paste\\'].head()\\ni = 2359\\nprint(len(train_log.loc[i, \\'text_change\\']))\\nprint(train_log[i - 5 : i + 5])\\nprint(\\'hello\\' + train_log.loc[i,\\'text_change\\'] + \\'world\\')\\ncondition = [\\'Move From\\' in a for a in train_log[\\'activity\\']]\\ntrain_log.loc[condition].head()\\n'"
      ]
     },
     "execution_count": 18,
     "metadata": {},
     "output_type": "execute_result"
    }
   ],
   "source": [
    "def simulate(row, content):\n",
    "\tactivity = row.loc['activity']\n",
    "\tposition = row.loc['cursor_position']\n",
    "\tdown_event = row.loc['down_event']\n",
    "\ttext_change = row.loc['text_change']\n",
    "\t\n",
    "\tif activity == 'Nonproduction':\n",
    "\t\tpass\n",
    "\telif activity == 'Input':\n",
    "\t\tcontent = content[:position] + text_change + content[position:]\n",
    "\telif activity == 'Remove/Cut':\n",
    "\t\tcontent = content[:position] + content[position + 1:] \n",
    "\telif activity == 'Paste':\n",
    "\t\tcontent = content[:position - len(text_change)] + text_change + content[position - len(text_change):]\n",
    "\telif activity == 'Replace':\n",
    "\t\treplaces = text_change.split(' => ')\n",
    "\t\tposition -= len(replaces[1])\n",
    "\t\tcontent = content[:position] + replaces[1] + content[position + len(replaces[0]):]\n",
    "\telif 'Move From' in activity:\n",
    "\t\tactivity = activity.replace('Move From ','')\n",
    "\t\tactivity = activity.split(' To ')\n",
    "\t\torigin = json.loads(activity[0])\n",
    "\t\ttarget = json.loads(activity[1])\n",
    "\t\tcontent = content[:origin[0]] + content[origin[1]:]\n",
    "\t\tcontent = content[:target[0]] + text_change + content[target[0]:]\n",
    "\n",
    "\treturn content\n",
    "\n",
    "content = ''\n",
    "first = train_log.loc[train_log['id'] == '001519c8']\n",
    "for index, a in first.iterrows():\n",
    "\tcontent = simulate(row=a, content=content)\n",
    "\n",
    "print(content)\n",
    "\n",
    "'''\n",
    "simulate(row=train_log.loc[2359], content=\"\")\n",
    "train_log.loc[train_log['activity'] == 'Paste'].head()\n",
    "i = 2359\n",
    "print(len(train_log.loc[i, 'text_change']))\n",
    "print(train_log[i - 5 : i + 5])\n",
    "print('hello' + train_log.loc[i,'text_change'] + 'world')\n",
    "condition = ['Move From' in a for a in train_log['activity']]\n",
    "train_log.loc[condition].head()\n",
    "'''\n"
   ]
  }
 ],
 "metadata": {
  "kernelspec": {
   "display_name": "Python 3",
   "language": "python",
   "name": "python3"
  },
  "language_info": {
   "codemirror_mode": {
    "name": "ipython",
    "version": 3
   },
   "file_extension": ".py",
   "mimetype": "text/x-python",
   "name": "python",
   "nbconvert_exporter": "python",
   "pygments_lexer": "ipython3",
   "version": "3.10.13"
  }
 },
 "nbformat": 4,
 "nbformat_minor": 2
}
